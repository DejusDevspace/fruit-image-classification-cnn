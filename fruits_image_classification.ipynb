{
 "cells": [
  {
   "cell_type": "markdown",
   "metadata": {},
   "source": [
    "## Importing Libraries"
   ]
  },
  {
   "cell_type": "code",
   "execution_count": 4,
   "metadata": {},
   "outputs": [],
   "source": [
    "import numpy as np\n",
    "import pandas as pd\n",
    "import matplotlib.pyplot as plt\n",
    "import seaborn as sns\n",
    "import tensorflow as tf \n",
    "from sklearn.metrics import confusion_matrix, classification_report, accuracy_score \n",
    "import os"
   ]
  },
  {
   "cell_type": "markdown",
   "metadata": {},
   "source": [
    "## Preparing Data (Train and Test Sets)"
   ]
  },
  {
   "cell_type": "code",
   "execution_count": 5,
   "metadata": {},
   "outputs": [],
   "source": [
    "IMG_SIZE = (100, 100)  # Size of images to be passed into the model\n",
    "IMG_HEIGHT, IMG_WIDTH = 100, 100\n",
    "# ---- For reproducibility ----- #\n",
    "SEED = 123\n",
    "BATCH_SIZE = 32"
   ]
  },
  {
   "cell_type": "code",
   "execution_count": 6,
   "metadata": {},
   "outputs": [
    {
     "name": "stdout",
     "output_type": "stream",
     "text": [
      "Found 67688 files belonging to 131 classes.\n",
      "Found 22688 files belonging to 131 classes.\n"
     ]
    }
   ],
   "source": [
    "train_path = 'path-to-dataset'  # (path hidden)\n",
    "test_path = 'path-to-dataset'\n",
    "\n",
    "# ----- Create a train dataset object (tf.data.Dataset)----- #\n",
    "train_set = tf.keras.utils.image_dataset_from_directory(\n",
    "    directory=train_path,\n",
    "    label_mode='categorical',\n",
    "    seed=SEED,\n",
    "    image_size=IMG_SIZE,\n",
    "    batch_size=BATCH_SIZE,\n",
    ")\n",
    "# ----- Create a test dataset object (tf.data.Dataset)----- #\n",
    "test_set = tf.keras.utils.image_dataset_from_directory(\n",
    "  shuffle=False, \n",
    "  directory=test_path, \n",
    "  label_mode=\"categorical\",\n",
    "  seed=SEED,\n",
    "  image_size=IMG_SIZE,\n",
    "  batch_size=BATCH_SIZE,\n",
    ")"
   ]
  },
  {
   "cell_type": "markdown",
   "metadata": {},
   "source": [
    "## Model Creation and Training"
   ]
  },
  {
   "cell_type": "code",
   "execution_count": 7,
   "metadata": {},
   "outputs": [],
   "source": [
    "# ----- Function to create sequential model type ----- #\n",
    "def create_sequential_cnn(input_shape):\n",
    "    model = tf.keras.Sequential([\n",
    "        # Input layer\n",
    "        tf.keras.layers.InputLayer(input_shape=input_shape),\n",
    "        \n",
    "        # Convolutional blocks\n",
    "        tf.keras.layers.Conv2D(64, 3, padding=\"same\", activation=\"relu\"),\n",
    "        tf.keras.layers.MaxPooling2D(),\n",
    "        \n",
    "        tf.keras.layers.Conv2D(128, 3, padding=\"same\", activation=\"relu\"),\n",
    "        tf.keras.layers.MaxPooling2D(),\n",
    "        \n",
    "        tf.keras.layers.Conv2D(256, 3, padding=\"same\", activation=\"relu\"),\n",
    "        tf.keras.layers.MaxPooling2D(),\n",
    "        \n",
    "        tf.keras.layers.Conv2D(512, 3, padding=\"same\", activation=\"relu\"),\n",
    "        tf.keras.layers.MaxPooling2D(),\n",
    "        \n",
    "        # Global Average Pooling layer\n",
    "        tf.keras.layers.GlobalAveragePooling2D(),\n",
    "        \n",
    "        # Dense blocks\n",
    "        tf.keras.layers.Dense(256, activation=\"relu\", kernel_regularizer='l2'),\n",
    "        tf.keras.layers.Dropout(0.2),\n",
    "        tf.keras.layers.Dense(25, activation=\"relu\", kernel_regularizer='l2'),\n",
    "        tf.keras.layers.Dropout(0.2),\n",
    "        \n",
    "        # Output layer\n",
    "        tf.keras.layers.Dense(131, activation=\"softmax\")\n",
    "    ])\n",
    "    \n",
    "    return model"
   ]
  },
  {
   "cell_type": "code",
   "execution_count": 8,
   "metadata": {},
   "outputs": [
    {
     "name": "stdout",
     "output_type": "stream",
     "text": [
      "Model: \"sequential\"\n",
      "_________________________________________________________________\n",
      " Layer (type)                Output Shape              Param #   \n",
      "=================================================================\n",
      " conv2d (Conv2D)             (None, 100, 100, 64)      1792      \n",
      "                                                                 \n",
      " max_pooling2d (MaxPooling2D  (None, 50, 50, 64)       0         \n",
      " )                                                               \n",
      "                                                                 \n",
      " conv2d_1 (Conv2D)           (None, 50, 50, 128)       73856     \n",
      "                                                                 \n",
      " max_pooling2d_1 (MaxPooling  (None, 25, 25, 128)      0         \n",
      " 2D)                                                             \n",
      "                                                                 \n",
      " conv2d_2 (Conv2D)           (None, 25, 25, 256)       295168    \n",
      "                                                                 \n",
      " max_pooling2d_2 (MaxPooling  (None, 12, 12, 256)      0         \n",
      " 2D)                                                             \n",
      "                                                                 \n",
      " conv2d_3 (Conv2D)           (None, 12, 12, 512)       1180160   \n",
      "                                                                 \n",
      " max_pooling2d_3 (MaxPooling  (None, 6, 6, 512)        0         \n",
      " 2D)                                                             \n",
      "                                                                 \n",
      " global_average_pooling2d (G  (None, 512)              0         \n",
      " lobalAveragePooling2D)                                          \n",
      "                                                                 \n",
      " dense (Dense)               (None, 256)               131328    \n",
      "                                                                 \n",
      " dropout (Dropout)           (None, 256)               0         \n",
      "                                                                 \n",
      " dense_1 (Dense)             (None, 25)                6425      \n",
      "                                                                 \n",
      " dropout_1 (Dropout)         (None, 25)                0         \n",
      "                                                                 \n",
      " dense_2 (Dense)             (None, 131)               3406      \n",
      "                                                                 \n",
      "=================================================================\n",
      "Total params: 1,692,135\n",
      "Trainable params: 1,692,135\n",
      "Non-trainable params: 0\n",
      "_________________________________________________________________\n"
     ]
    }
   ],
   "source": [
    "cnn = create_sequential_cnn((IMG_HEIGHT, IMG_WIDTH, 3))\n",
    "cnn.summary()"
   ]
  },
  {
   "cell_type": "code",
   "execution_count": 9,
   "metadata": {},
   "outputs": [],
   "source": [
    "cnn.compile(\n",
    "    optimizer=tf.keras.optimizers.Adam(),\n",
    "    loss='categorical_crossentropy',  # Categorical cross-entropy loss function\n",
    "    metrics=['accuracy']\n",
    ")\n",
    "\n",
    "callbacks = [\n",
    "    tf.keras.callbacks.EarlyStopping(monitor='val_loss', patience=5), # Stop after 5 epochs if val loss doesn't improve\n",
    "    tf.keras.callbacks.ModelCheckpoint('./models/best_seq_cnn.h5', monitor='val_accuracy', save_best_only=True)  # Saves best model\n",
    "]\n",
    "\n",
    "epochs = 25  # Number of iterations (epochs) "
   ]
  },
  {
   "cell_type": "code",
   "execution_count": 10,
   "metadata": {},
   "outputs": [
    {
     "name": "stdout",
     "output_type": "stream",
     "text": [
      "Epoch 1/25\n"
     ]
    },
    {
     "name": "stdout",
     "output_type": "stream",
     "text": [
      "2116/2116 [==============================] - 98s 44ms/step - loss: 4.5407 - accuracy: 0.0647 - val_loss: 2.2460 - val_accuracy: 0.3198\n",
      "Epoch 2/25\n",
      "2116/2116 [==============================] - 73s 35ms/step - loss: 1.7877 - accuracy: 0.4598 - val_loss: 0.8868 - val_accuracy: 0.7745\n",
      "Epoch 3/25\n",
      "2116/2116 [==============================] - 77s 36ms/step - loss: 1.0860 - accuracy: 0.6865 - val_loss: 0.5997 - val_accuracy: 0.8717\n",
      "Epoch 4/25\n",
      "2116/2116 [==============================] - 77s 36ms/step - loss: 0.7823 - accuracy: 0.7898 - val_loss: 0.4138 - val_accuracy: 0.9221\n",
      "Epoch 5/25\n",
      "2116/2116 [==============================] - 77s 37ms/step - loss: 0.6496 - accuracy: 0.8352 - val_loss: 0.3935 - val_accuracy: 0.9245\n",
      "Epoch 6/25\n",
      "2116/2116 [==============================] - 76s 36ms/step - loss: 0.5625 - accuracy: 0.8627 - val_loss: 0.4069 - val_accuracy: 0.9354\n",
      "Epoch 7/25\n",
      "2116/2116 [==============================] - 76s 36ms/step - loss: 0.5140 - accuracy: 0.8780 - val_loss: 0.2952 - val_accuracy: 0.9525\n",
      "Epoch 8/25\n",
      "2116/2116 [==============================] - 76s 36ms/step - loss: 0.4683 - accuracy: 0.8941 - val_loss: 0.3375 - val_accuracy: 0.9445\n",
      "Epoch 9/25\n",
      "2116/2116 [==============================] - 76s 36ms/step - loss: 0.4453 - accuracy: 0.9004 - val_loss: 0.2960 - val_accuracy: 0.9623\n",
      "Epoch 10/25\n",
      "2116/2116 [==============================] - 76s 36ms/step - loss: 0.4312 - accuracy: 0.9056 - val_loss: 0.2619 - val_accuracy: 0.9648\n",
      "Epoch 11/25\n",
      "2116/2116 [==============================] - 76s 36ms/step - loss: 0.4044 - accuracy: 0.9126 - val_loss: 0.2843 - val_accuracy: 0.9614\n",
      "Epoch 12/25\n",
      "2116/2116 [==============================] - 76s 36ms/step - loss: 0.3963 - accuracy: 0.9158 - val_loss: 0.2401 - val_accuracy: 0.9677\n",
      "Epoch 13/25\n",
      "2116/2116 [==============================] - 76s 36ms/step - loss: 0.3919 - accuracy: 0.9172 - val_loss: 0.2760 - val_accuracy: 0.9690\n",
      "Epoch 14/25\n",
      "2116/2116 [==============================] - 76s 36ms/step - loss: 0.3751 - accuracy: 0.9221 - val_loss: 0.2466 - val_accuracy: 0.9709\n",
      "Epoch 15/25\n",
      "2116/2116 [==============================] - 76s 36ms/step - loss: 0.3600 - accuracy: 0.9273 - val_loss: 0.3005 - val_accuracy: 0.9631\n",
      "Epoch 16/25\n",
      "2116/2116 [==============================] - 76s 36ms/step - loss: 0.3579 - accuracy: 0.9286 - val_loss: 0.2431 - val_accuracy: 0.9718\n",
      "Epoch 17/25\n",
      "2116/2116 [==============================] - 76s 36ms/step - loss: 0.3531 - accuracy: 0.9290 - val_loss: 0.2622 - val_accuracy: 0.9702\n"
     ]
    }
   ],
   "source": [
    "# ----- Initiaite model training ----- #\n",
    "cnn_history = cnn.fit(\n",
    "    train_set,\n",
    "    validation_data=test_set,\n",
    "    epochs=epochs,\n",
    "    callbacks=callbacks,\n",
    ")"
   ]
  },
  {
   "cell_type": "markdown",
   "metadata": {},
   "source": [
    "## Model Evaluation"
   ]
  },
  {
   "cell_type": "code",
   "execution_count": 11,
   "metadata": {},
   "outputs": [],
   "source": [
    "# ----- Function to plot training curves (loss and accuracy) ----- #\n",
    "def plot_training_curves(model_history, model_name):\n",
    "\n",
    "    history = model_history.history\n",
    "\n",
    "    plt.figure(figsize=(15, 5))  # Size of the complete figure\n",
    "\n",
    "    plt.subplot(1, 2, 1)  # Select first subplot\n",
    "    plt.plot(history['loss'], label='Training loss') \n",
    "    plt.plot(history['val_loss'], label='Validation loss')\n",
    "    plt.legend()  # Show the names for the color of lines in plot\n",
    "    plt.xlabel('Epoch')\n",
    "    plt.ylabel('Loss')\n",
    "\n",
    "    plt.subplot(1, 2, 2)  # Select second subplot\n",
    "    plt.plot(history['accuracy'], label='Training accuracy')\n",
    "    plt.plot(history['val_accuracy'], label='Validation accuracy')\n",
    "    plt.legend()  # Show the names for the color of lines in plot\n",
    "    plt.xlabel('Epoch')\n",
    "    plt.ylabel('Accuracy')\n",
    " \n",
    "    plt.suptitle(f'{model_name} Training performance')  # Centered title for the figure\n",
    "    plt.show()\n",
    "\n",
    "# ----- Function for prediction using the model ----- #\n",
    "def predict(dataset, model):\n",
    "    pred_vals = np.argmax(model.predict(dataset), axis=-1)  # Values for predicted class/category by the model\n",
    "    true_vals = np.concatenate([label for img, label in dataset], axis=0)\n",
    "    true_vals = np.argmax(true_vals, axis=-1)  # Values for the actual class (category)\n",
    "    # ----- Returns the predicted values and the true values ----- #\n",
    "    return pred_vals, true_vals\n",
    "\n",
    "# ----- Function to show the evaluation of the model ----- #\n",
    "def show_performance_evaluation(dataset, model):  \n",
    "\n",
    "    pred_vals, true_vals = predict(dataset, model)  # predict() function's return\n",
    "\n",
    "    class_names = [folder_name for folder_name in os.listdir(train_path)]\n",
    "    print(\"\\n\\nClassification Report:\\n\")\n",
    "    print(classification_report(true_vals, pred_vals, labels=[i for i in range(0, 131)], target_names=class_names, zero_division=1))"
   ]
  },
  {
   "cell_type": "code",
   "execution_count": 12,
   "metadata": {},
   "outputs": [
    {
     "data": {
      "image/png": "[encoded data removed]",
      "text/plain": [
       "<Figure size 1500x500 with 2 Axes>"
      ]
     },
     "metadata": {},
     "output_type": "display_data"
    }
   ],
   "source": [
    "# ----- Show training (loss and accuracy) curves during the model training process ----- #\n",
    "plot_training_curves(cnn_history, 'CNN Model')"
   ]
  },
  {
   "cell_type": "code",
   "execution_count": 13,
   "metadata": {},
   "outputs": [
    {
     "name": "stdout",
     "output_type": "stream",
     "text": [
      "709/709 [==============================] - 9s 12ms/step\n",
      "\n",
      "\n",
      "Classification Report:\n",
      "\n",
      "                     precision    recall  f1-score   support\n",
      "\n",
      "     Apple Braeburn       0.92      1.00      0.96       164\n",
      " Apple Crimson Snow       1.00      1.00      1.00       148\n",
      "     Apple Golden 1       0.86      1.00      0.93       160\n",
      "     Apple Golden 2       1.00      0.85      0.92       164\n",
      "     Apple Golden 3       1.00      1.00      1.00       161\n",
      " Apple Granny Smith       1.00      1.00      1.00       164\n",
      "    Apple Pink Lady       1.00      1.00      1.00       152\n",
      "        Apple Red 1       0.85      1.00      0.92       164\n",
      "        Apple Red 2       1.00      0.99      1.00       164\n",
      "        Apple Red 3       1.00      1.00      1.00       144\n",
      "Apple Red Delicious       0.97      1.00      0.98       166\n",
      " Apple Red Yellow 1       1.00      1.00      1.00       164\n",
      " Apple Red Yellow 2       1.00      1.00      1.00       219\n",
      "            Apricot       1.00      1.00      1.00       164\n",
      "            Avocado       1.00      1.00      1.00       143\n",
      "       Avocado ripe       1.00      1.00      1.00       166\n",
      "             Banana       1.00      1.00      1.00       166\n",
      " Banana Lady Finger       1.00      1.00      1.00       152\n",
      "         Banana Red       1.00      0.89      0.94       166\n",
      "           Beetroot       0.95      0.85      0.90       150\n",
      "          Blueberry       0.99      1.00      1.00       154\n",
      "       Cactus fruit       0.95      0.95      0.95       166\n",
      "       Cantaloupe 1       1.00      1.00      1.00       164\n",
      "       Cantaloupe 2       1.00      0.99      1.00       164\n",
      "          Carambula       0.96      0.98      0.97       166\n",
      "        Cauliflower       1.00      1.00      1.00       234\n",
      "           Cherry 1       1.00      1.00      1.00       164\n",
      "           Cherry 2       1.00      1.00      1.00       246\n",
      "     Cherry Rainier       0.89      1.00      0.94       246\n",
      "   Cherry Wax Black       1.00      1.00      1.00       164\n",
      "     Cherry Wax Red       1.00      1.00      1.00       164\n",
      "  Cherry Wax Yellow       0.92      1.00      0.96       164\n",
      "           Chestnut       0.99      0.93      0.96       153\n",
      "         Clementine       1.00      1.00      1.00       166\n",
      "              Cocos       0.97      1.00      0.99       166\n",
      "               Corn       0.97      0.75      0.85       150\n",
      "          Corn Husk       1.00      0.73      0.85       154\n",
      "      Cucumber Ripe       1.00      1.00      1.00       130\n",
      "    Cucumber Ripe 2       1.00      0.97      0.98       156\n",
      "              Dates       0.98      1.00      0.99       166\n",
      "           Eggplant       1.00      0.57      0.73       156\n",
      "                Fig       1.00      1.00      1.00       234\n",
      "        Ginger Root       1.00      0.79      0.88        99\n",
      "         Granadilla       1.00      1.00      1.00       166\n",
      "         Grape Blue       1.00      1.00      1.00       328\n",
      "         Grape Pink       0.86      1.00      0.93       164\n",
      "        Grape White       0.98      1.00      0.99       166\n",
      "      Grape White 2       1.00      1.00      1.00       166\n",
      "      Grape White 3       1.00      1.00      1.00       164\n",
      "      Grape White 4       1.00      1.00      1.00       158\n",
      "    Grapefruit Pink       1.00      1.00      1.00       166\n",
      "   Grapefruit White       0.99      1.00      0.99       164\n",
      "              Guava       1.00      1.00      1.00       166\n",
      "           Hazelnut       0.90      1.00      0.95       157\n",
      "        Huckleberry       1.00      1.00      1.00       166\n",
      "               Kaki       1.00      1.00      1.00       166\n",
      "               Kiwi       1.00      1.00      1.00       156\n",
      "           Kohlrabi       0.84      1.00      0.91       157\n",
      "           Kumquats       1.00      1.00      1.00       166\n",
      "              Lemon       1.00      1.00      1.00       164\n",
      "        Lemon Meyer       1.00      1.00      1.00       166\n",
      "              Limes       1.00      1.00      1.00       166\n",
      "             Lychee       1.00      1.00      1.00       166\n",
      "          Mandarine       1.00      1.00      1.00       166\n",
      "              Mango       1.00      1.00      1.00       166\n",
      "          Mango Red       1.00      0.97      0.99       142\n",
      "          Mangostan       0.96      1.00      0.98       102\n",
      "           Maracuja       1.00      0.99      0.99       166\n",
      " Melon Piel de Sapo       0.99      1.00      1.00       246\n",
      "           Mulberry       1.00      1.00      1.00       164\n",
      "          Nectarine       1.00      0.82      0.90       164\n",
      "     Nectarine Flat       1.00      0.85      0.92       160\n",
      "         Nut Forest       1.00      0.87      0.93       218\n",
      "          Nut Pecan       0.98      0.96      0.97       178\n",
      "          Onion Red       0.78      1.00      0.87       150\n",
      "   Onion Red Peeled       0.92      1.00      0.96       155\n",
      "        Onion White       0.89      1.00      0.94       146\n",
      "             Orange       1.00      1.00      1.00       160\n",
      "             Papaya       1.00      1.00      1.00       164\n",
      "      Passion Fruit       0.98      1.00      0.99       166\n",
      "              Peach       1.00      0.67      0.80       164\n",
      "            Peach 2       0.94      1.00      0.97       246\n",
      "         Peach Flat       1.00      1.00      1.00       164\n",
      "               Pear       1.00      1.00      1.00       164\n",
      "             Pear 2       0.79      0.83      0.81       232\n",
      "         Pear Abate       0.78      0.98      0.87       166\n",
      "       Pear Forelle       1.00      1.00      1.00       234\n",
      "        Pear Kaiser       1.00      1.00      1.00       102\n",
      "       Pear Monster       0.99      0.95      0.97       166\n",
      "           Pear Red       1.00      1.00      1.00       222\n",
      "         Pear Stone       0.82      1.00      0.90       237\n",
      "      Pear Williams       0.98      1.00      0.99       166\n",
      "             Pepino       1.00      0.80      0.89       166\n",
      "       Pepper Green       1.00      1.00      1.00       148\n",
      "      Pepper Orange       1.00      1.00      1.00       234\n",
      "         Pepper Red       1.00      1.00      1.00       222\n",
      "      Pepper Yellow       0.98      1.00      0.99       222\n",
      "           Physalis       1.00      1.00      1.00       164\n",
      " Physalis with Husk       0.98      0.96      0.97       164\n",
      "          Pineapple       1.00      1.00      1.00       166\n",
      "     Pineapple Mini       1.00      1.00      1.00       163\n",
      "       Pitahaya Red       0.98      1.00      0.99       166\n",
      "               Plum       1.00      1.00      1.00       151\n",
      "             Plum 2       1.00      1.00      1.00       142\n",
      "             Plum 3       1.00      1.00      1.00       304\n",
      "        Pomegranate       0.70      1.00      0.82       164\n",
      "     Pomelo Sweetie       1.00      1.00      1.00       153\n",
      "         Potato Red       0.95      0.87      0.91       150\n",
      "  Potato Red Washed       1.00      0.89      0.94       151\n",
      "       Potato Sweet       0.98      0.66      0.79       150\n",
      "       Potato White       0.99      0.90      0.94       150\n",
      "             Quince       1.00      1.00      1.00       166\n",
      "           Rambutan       1.00      1.00      1.00       164\n",
      "          Raspberry       1.00      1.00      1.00       166\n",
      "         Redcurrant       1.00      0.82      0.90       164\n",
      "              Salak       0.90      1.00      0.94       162\n",
      "         Strawberry       1.00      1.00      1.00       164\n",
      "   Strawberry Wedge       0.99      0.98      0.99       246\n",
      "          Tamarillo       1.00      1.00      1.00       166\n",
      "            Tangelo       1.00      1.00      1.00       166\n",
      "           Tomato 1       1.00      1.00      1.00       246\n",
      "           Tomato 2       1.00      1.00      1.00       225\n",
      "           Tomato 3       1.00      1.00      1.00       246\n",
      "           Tomato 4       1.00      1.00      1.00       160\n",
      "  Tomato Cherry Red       1.00      1.00      1.00       164\n",
      "       Tomato Heart       1.00      1.00      1.00       228\n",
      "      Tomato Maroon       1.00      1.00      1.00       127\n",
      " Tomato not Ripened       1.00      1.00      1.00       153\n",
      "      Tomato Yellow       0.86      1.00      0.93       158\n",
      "             Walnut       0.98      1.00      0.99       249\n",
      "         Watermelon       1.00      1.00      1.00       157\n",
      "\n",
      "           accuracy                           0.97     22688\n",
      "          macro avg       0.98      0.97      0.97     22688\n",
      "       weighted avg       0.98      0.97      0.97     22688\n",
      "\n"
     ]
    }
   ],
   "source": [
    "final_model = tf.keras.models.load_model('./models/best_seq_cnn.h5')  #Load the model from the saved directory\n",
    "show_performance_evaluation(dataset=test_set, model=final_model)"
   ]
  }
 ],
 "metadata": {
  "kernelspec": {
   "display_name": "devspace",
   "language": "python",
   "name": "python3"
  },
  "language_info": {
   "codemirror_mode": {
    "name": "ipython",
    "version": 3
   },
   "file_extension": ".py",
   "mimetype": "text/x-python",
   "name": "python",
   "nbconvert_exporter": "python",
   "pygments_lexer": "ipython3",
   "version": "3.9.0"
  }
 },
 "nbformat": 4,
 "nbformat_minor": 2
}
